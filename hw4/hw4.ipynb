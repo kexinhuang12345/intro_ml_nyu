{
 "cells": [
  {
   "cell_type": "markdown",
   "metadata": {},
   "source": [
    "# CSCI-UA 0473 - Introduction to Machine Learning\n",
    "## Homework 4\n",
    "### Assignment 4 - Adaptive RBFN and Stochastic Gradient Descent (25 Points)"
   ]
  },
  {
   "cell_type": "markdown",
   "metadata": {},
   "source": [
    "The task for this homework is again that of handwritten digit recognition on the MNIST dataset.  **For this time, you will train on the full dataset (that is, 60000 training images plus 10000 test images), rather than a small subset.**\n",
    "\n",
    "Your first goal is to implement an adaptive radial basis function network, and train it with stochastic gradient descent (SGD), while going over a few questions.\n",
    "\n",
    "<div class=\"alert alert-danger\">\n",
    "**Please do not miss any text with red background; they are either questions you need to answer, or directions to implement some functionality.**\n",
    "</div>\n",
    "\n",
    "<div class=\"alert alert-warning\">\n",
    "**Please start this homework early.**  Stochastic gradient descent will take a particularly long time to train.\n",
    "</div>\n",
    "\n",
    "<div class=\"alert alert-warning\">\n",
    "**Please submit a fully-run notebook; not doing so would incur at least 10% penalty problem-wise.**\n",
    "</div>"
   ]
  },
  {
   "cell_type": "code",
   "execution_count": 10,
   "metadata": {
    "collapsed": true
   },
   "outputs": [],
   "source": [
    "import autograd.numpy as np\n",
    "import autograd.scipy as ascipy\n",
    "import autograd.misc.flatten\n",
    "from autograd import value_and_grad\n",
    "import scipy.optimize\n",
    "import pickle\n",
    "\n",
    "import matplotlib.pyplot as plot\n",
    "%matplotlib inline"
   ]
  },
  {
   "cell_type": "markdown",
   "metadata": {},
   "source": [
    "## 1. Data"
   ]
  },
  {
   "cell_type": "code",
   "execution_count": 104,
   "metadata": {
    "collapsed": true
   },
   "outputs": [],
   "source": [
    "npz = np.load('mnist.npz')\n",
    "# Labels\n",
    "train_labels = npz['train_labels']\n",
    "test_labels = npz['test_labels']\n",
    "# Data.  We linearly scale the integers into something between 0 and 1.\n",
    "train_data = npz['train_data'] / 255.\n",
    "test_data = npz['test_data'] / 255."
   ]
  },
  {
   "cell_type": "markdown",
   "metadata": {},
   "source": [
    "The shapes and types for each numpy array is:\n",
    "\n",
    "* `train_data`: 60000x28x28 float64 array\n",
    "* `train_labels`: 60000 int64 array\n",
    "* `test_data`: 10000x28x28 float64 array\n",
    "* `test_labels`: 10000 int64 array\n",
    "\n",
    "The digit for i-th training data (`train_data[i]`) is `train_labels[i]`.  The same holds for test data."
   ]
  },
  {
   "cell_type": "code",
   "execution_count": 12,
   "metadata": {},
   "outputs": [
    {
     "data": {
      "text/plain": [
       "Text(0.5,1.05,u'Digit 5')"
      ]
     },
     "execution_count": 12,
     "metadata": {},
     "output_type": "execute_result"
    },
    {
     "data": {
      "image/png": "[encoded data removed]",
      "text/plain": [
       "<matplotlib.figure.Figure at 0x1112f3e50>"
      ]
     },
     "metadata": {},
     "output_type": "display_data"
    }
   ],
   "source": [
    "plot.matshow(train_data[0], vmin=0, vmax=1, cmap='gray')\n",
    "# See help(str.format) or https://docs.python.org/3.1/library/string.html#formatspec for usage of the Pythonic formatter\n",
    "# If you are comfortable with C you can also write things like sprintf(): 'Digit %d' % (train_labels[0])\n",
    "plot.title('Digit {}'.format(train_labels[0]))"
   ]
  },
  {
   "cell_type": "code",
   "execution_count": 16,
   "metadata": {},
   "outputs": [
    {
     "data": {
      "text/plain": [
       "5"
      ]
     },
     "execution_count": 16,
     "metadata": {},
     "output_type": "execute_result"
    }
   ],
   "source": [
    "train_labels[0]"
   ]
  },
  {
   "cell_type": "markdown",
   "metadata": {},
   "source": [
    "## 2. Model Definition\n",
    "\n",
    "The first thing we need is model definition.  Recall that the Gaussian Radial Basis Function we have learned in the class transforms an arbitrary input vector $\\mathbf{x} \\in \\mathbb{R}^d$ into another vector $\\phi(\\mathbf{x}) \\in \\mathbb{R}^k$ based on a set of bases $\\mathbf{r}_k$:\n",
    "\n",
    "$$\n",
    "\\phi(\\mathbf{x})_k = \\exp\\left(\\lVert \\mathbf{x} - \\mathbf{r}_k \\rVert^2\\right) = \\exp \\left( \\sum_{i=1}^d (x_i - r_{ki})^2\\right)\n",
    "$$\n",
    "\n",
    "An alternative would be taking an average of the squares instead of summing them up:\n",
    "\n",
    "$$\n",
    "\\phi(\\mathbf{x})_k = \\exp\\left(\\lVert \\mathbf{x} - \\mathbf{r}_k \\rVert^2\\right) = \\exp \\left( \\dfrac{1}{d} \\sum_{i=1}^d (x_i - r_{ki})^2\\right)\n",
    "$$\n",
    "\n",
    "<div class=\"alert alert-danger\">\n",
    "(5 points) Between the two options, which one do you think that would work better?  Justify your answer and replace the `XXX` in the `adaptive_rbfn_logits` function with your choice.  **Note: \"by experiment\" is not a sufficient justification for *this* problem.**\n",
    "</div>"
   ]
  },
  {
   "cell_type": "markdown",
   "metadata": {},
   "source": [
    "<div class=\"alert alert-warning\">\n",
    "\n",
    "Answer: We know the purpose of exp(-||x-r||^2) is to measure the distance between x and r, that is if x and r is close, then, exp(-||x-r||^2) should be close to 1 and if x and r is far away, then, exp(-||x-r||^2) is close to 0. \n",
    "\n",
    "Both summing up and average achieved this goal, the only difference is the scale in the exponential function. As when x is far away from r, the function in the exponential function will give a value really close to 0. For example, X=[-100,-1] to r1=[-1,-1], r2=[1,1], it will give phi 1 = exp(-(99^2+0^2)), phi 2=exp(-(101^2+2^2)) using sum, as both approaches 0, it cannot distinguish between which r is closer. So by averaging it up, it will alleviates this problem a little bit. As the number will be bigger and exponentially farther away from 0.\n",
    "<div>"
   ]
  },
  {
   "cell_type": "code",
   "execution_count": 188,
   "metadata": {
    "collapsed": true
   },
   "outputs": [],
   "source": [
    "def adaptive_rbfn_logits(x, params):\n",
    "    '''\n",
    "    x: numpy array of training data, with shape (n_samples, 28, 28)\n",
    "    params: a dictionary with \"bases\", \"w\" and \"b\" as keys.\n",
    "    '''\n",
    "    bases = params['bases']\n",
    "    w = params['w']\n",
    "    b = params['b']\n",
    "    x = x.reshape((x.shape[0], -1))\n",
    "    \n",
    "    phi = np.exp(-((x[:, None, :] - bases[None, :, :]) ** 2).mean(axis=-1)) # (n_samples, n_bases)\n",
    "    logits = np.dot(phi, w) + b\n",
    "    \n",
    "    return logits"
   ]
  },
  {
   "cell_type": "markdown",
   "metadata": {},
   "source": [
    "The function above applies a linear transformation on $\\phi(\\mathbf{x})$ to get the *logits* for each class.  The logits can be considered as \"scores\"; the higher the logit, the more likely the class.  In fact, the probability of a certain class can be directly computed by applying a *softmax* on the logits.\n",
    "\n",
    "Recall that the multiclass logistic regression minimizes the negative log-likelihood (sometimes also called *cross entropy*) of the entire dataset:\n",
    "\n",
    "$$\n",
    "J(M, D_\\text{tra}) = -\\dfrac{1}{N} \\sum_{(\\mathbf{x}, y^*) \\in D_\\text{tra}}\n",
    "\\log \\dfrac{\\exp \\mathbf{w}^T_{y^*} \\tilde{\\mathbf{x}}}{\\sum_y \\exp \\mathbf{w}^T_y \\tilde{\\mathbf{x}}}\n",
    "$$\n",
    "\n",
    "<div class=\"alert alert-danger\">\n",
    "(5 points) The following function implements the cost function in a naive, numerically unstable way.  Please rewrite the indicated block **in at most 2 lines** so that it becomes numerically stable.  You will only get 2 points if your replacement is correct and more than 2 lines.\n",
    "</div>\n",
    "\n",
    "<div class=\"alert alert-info\">\n",
    "**Hint:** Recall Problem 2 in Homework 3, then look at `autograd.scipy.misc`, then see how we select elements efficiently (which is usually called [fancy](https://docs.scipy.org/doc/numpy/user/basics.indexing.html#index-arrays) [indexing](https://docs.scipy.org/doc/numpy/user/basics.indexing.html#indexing-multi-dimensional-arrays)). <br/>\n",
    "\n",
    "Other autodifferentiation frameworks also have their numerically stable log-softmax functions.\n",
    "</div>"
   ]
  },
  {
   "cell_type": "code",
   "execution_count": 28,
   "metadata": {
    "collapsed": true
   },
   "outputs": [],
   "source": [
    "??autograd.scipy.misc"
   ]
  },
  {
   "cell_type": "code",
   "execution_count": 189,
   "metadata": {
    "collapsed": true
   },
   "outputs": [],
   "source": [
    "def adaptive_rbfn_cost(param_buf, x, y, unpack):\n",
    "    '''\n",
    "    The cost function for ARBFN.\n",
    "    x: numpy array of training data, with shape (n_samples, 28, 28)\n",
    "    y: numpy array of training labels, with shape (n_samples,).  All elements are integers.\n",
    "    param_buf: the *flattened* numpy array containing all the parameters.\n",
    "    unpack: a function that recovers the flattened parameters into the original list/dict.\n",
    "    \n",
    "    param_buf and unpack are quite a nuisance as they are introduced by autograd.\n",
    "    A more detailed explanation comes with the \"autograd.misc.flatten\" function below.\n",
    "    '''\n",
    "    params = unpack(param_buf)\n",
    "    logits = adaptive_rbfn_logits(x, params)\n",
    "    \n",
    "    #### BEGINNING OF CODE TO BE REPLACED\n",
    "    log_prob=(logits[np.arange(x.shape[0]),y])-ascipy.misc.logsumexp(logits)\n",
    "    cost=-log_prob.mean()\n",
    "    \n",
    "    #exp_logits = np.exp(logits)\n",
    "    #softmax = exp_logits / exp_logits.sum(axis=1, keepdims=True)\n",
    "    #log_probs = np.log(softmax[np.arange(x.shape[0]), y])\n",
    "    #cost = -log_probs.mean()\n",
    "    \n",
    "    #### END OF CODE TO BE REPLACED\n",
    "    \n",
    "    return cost"
   ]
  },
  {
   "cell_type": "code",
   "execution_count": 190,
   "metadata": {
    "collapsed": true
   },
   "outputs": [],
   "source": [
    "# This statement returns a function that has the same signature as adaptive_rbfn_cost(),\n",
    "# but returns both the cost and the gradient.\n",
    "adaptive_rbfn_cost_and_grad = value_and_grad(adaptive_rbfn_cost)"
   ]
  },
  {
   "cell_type": "code",
   "execution_count": 191,
   "metadata": {
    "collapsed": true
   },
   "outputs": [],
   "source": [
    "def train_full_batch(cost_and_grad, initial_params, train_data, train_labels, use_scipy=True, learning_rate=1, max_iter=30000):\n",
    "    # NOTE: We should have early stopping here, but it is left for you to implement in the next problem (not here).\n",
    "    # Autograd.misc.flatten() is a tricky function that allows us to compute the gradients to all parameters\n",
    "    # with a single grad() call.\n",
    "    # It takes in a list or dictionary, and returns two objects:\n",
    "    # (1) a flattened, i.e. 1D, numpy array which contains all the parameters, and\n",
    "    # (2) an unflatten function, which will recover the original list/dictionary structure from the flattened array.\n",
    "    # Collapsing all the parameters into a single array would also allow us to use scipy's optimize function which\n",
    "    # only takes one input variable.\n",
    "    param_buf, unpack = autograd.misc.flatten(initial_params)\n",
    "\n",
    "    if not use_scipy:\n",
    "        for i in range(max_iter):\n",
    "            loss, dparam_buf = cost_and_grad(param_buf, train_data, train_labels, unpack)\n",
    "            param_buf -= learning_rate * dparam_buf\n",
    "            if i % 100 == 0:\n",
    "                print(i, loss)\n",
    "    else:\n",
    "        model = scipy.optimize.minimize(cost_and_grad, param_buf, (train_data, train_labels, unpack), jac=True, method='CG')\n",
    "        print(model)\n",
    "        param_buf = model.x\n",
    "    \n",
    "    return unpack(param_buf)"
   ]
  },
  {
   "cell_type": "markdown",
   "metadata": {},
   "source": [
    "Now that we have defined a function for training an adaptive RBFN, let's see how a small model works on a small dataset (100 training samples, 10 test samples)."
   ]
  },
  {
   "cell_type": "code",
   "execution_count": 192,
   "metadata": {
    "collapsed": true
   },
   "outputs": [],
   "source": [
    "train_size = 100\n",
    "test_size = 10\n",
    "n_bases = 10\n",
    "n_features = np.prod(train_data.shape[1:])\n",
    "\n",
    "params = {}\n",
    "params['bases'] = np.random.rand(n_bases, n_features)\n",
    "params['w'] = np.random.randn(n_bases, 10) * 0.1\n",
    "params['b'] = np.zeros(10)"
   ]
  },
  {
   "cell_type": "code",
   "execution_count": 193,
   "metadata": {},
   "outputs": [
    {
     "name": "stdout",
     "output_type": "stream",
     "text": [
      "(0, 6.9423962133271155)\n",
      "(100, 6.8676679539539984)\n",
      "(200, 6.866954454918746)\n",
      "(300, 6.8662084899101652)\n",
      "(400, 6.8654003536202888)\n",
      "CPU times: user 22.8 s, sys: 7.11 s, total: 29.9 s\n",
      "Wall time: 30.7 s\n"
     ]
    }
   ],
   "source": [
    "%%time\n",
    "new_params = train_full_batch(adaptive_rbfn_cost_and_grad, params, train_data[:train_size], train_labels[:train_size], False,max_iter=500)"
   ]
  },
  {
   "cell_type": "code",
   "execution_count": 194,
   "metadata": {},
   "outputs": [
    {
     "name": "stdout",
     "output_type": "stream",
     "text": [
      "(2, '/', 10)\n"
     ]
    }
   ],
   "source": [
    "y_hat = adaptive_rbfn_logits(test_data[:test_size], new_params).argmax(axis=1)\n",
    "print(np.equal(y_hat, test_labels[:test_size]).sum(), '/', test_size)"
   ]
  },
  {
   "cell_type": "code",
   "execution_count": 195,
   "metadata": {},
   "outputs": [
    {
     "data": {
      "text/plain": [
       "array([7, 2, 1, 0, 4, 1, 4, 9, 5, 9])"
      ]
     },
     "execution_count": 195,
     "metadata": {},
     "output_type": "execute_result"
    }
   ],
   "source": [
    "test_labels[:test_size]"
   ]
  },
  {
   "cell_type": "markdown",
   "metadata": {},
   "source": [
    "When the gradient is computed from the entire training set, we usually call it *(full) batch gradient descent*.  However, batch gradient descent is time- and memory-consuming, in the sense that it has to go through all the training examples and average all the gradients for a *single* step, and it quickly becomes impractical if the dataset or the model becomes large.\n",
    "\n",
    "The solution is *not* to see all the examples for a single gradient step.  Instead, for each step, we compute and average the gradients for only a small subset (commonly called a *minibatch*) of examples.  This is called *minibatch gradient descent*, or *stochastic gradient descent* (SGD), though the latter refer to the special case where the minibatch only contains a single example in some literatures.\n",
    "\n",
    "The intuition behind SGD is that the minibatch gradient is a noisy but unbiased estimate of the true gradient.  This of course has pros and cons.\n",
    "\n",
    "The main downside is that, due to the inherent noise of minibatch gradient, SGD no longer guarantees to converge to a local minimum, and sometimes it will fluctuates or even overshoot itself.  You will have to use a significantly smaller, and sometimes decaying, learning rate.  Very often, you would see a curve of training loss like [this](http://cs231n.github.io/neural-networks-3/#loss):\n",
    "\n",
    "![](http://cs231n.github.io/assets/nn3/loss.jpeg)\n",
    "\n",
    "The obvious upside is that estimating the gradient using minibatch is much more efficient than computing the true gradient across all training examples.  Or, after we iterate over the entire training set, we had already performed a lot of gradient steps, which is not necessarily a bad thing.  In fact, the size of a minibatch itself can be considered as a hyperparameter to fiddle with ~~although in practice few people do that~~.\n",
    "\n",
    "In practice, SGD often works good enough, especially for large models (such as neural networks) on large datasets.\n",
    "\n",
    "See [Leon Bottou's SGD Tricks](https://cilvr.cs.nyu.edu/diglib/lsml/bottou-sgd-tricks-2012.pdf) if you are interested in the details of SGD.\n",
    "\n",
    "<div class=\"alert alert-danger\">\n",
    "(15 points) Implement SGD, and train your ARBFN model with 20 bases (or any number you like) on the whole dataset, with the size of minibatch being 10.  <br/>\n",
    "Plot the training loss and validation accuracy, and report the test accuracy.  **Your implementation should have a test accuracy above 80% to be considered correct.** <br/>\n",
    "Do the same for minibatch size 100 and answer this question in the cell below: *What do you observe from the learning curve and training time of different minibatch sizes?*  <br/>\n",
    "\n",
    "You are free to define your own `train_sgd` function.  **Please do not use `autograd.misc.optimizers` package.**\n",
    "</div>\n",
    "\n",
    "<div class=\"alert alert-info\">\n",
    "**Hint:** To save your time figuring out the complete workflow of SGD, here is how we usually do it.\n",
    "<ol>\n",
    "    <li> Split the training set into a validation set and another smaller training set. </li>\n",
    "    <li> Shuffle the (rest of the) training set.  Of course, you can shuffle the indices rather than the actual items. </li>\n",
    "    <li> Divide the training set into equally-sized minibatches.  The last batch may not have the same size as the others, and it's up to you how to deal with it (usually it doesn't matter too much). </li>\n",
    "    <li> Iterate over each minibatch, compute the gradient, and update the parameters. </li>\n",
    "    <li> After going through all the minibatches (we call that *an epoch*), evaluate the model on validation set, and decide whether to early stop.  Since SGD will fluctuate a lot, you may want to leave it run for a little while longer even if the validation error does not seem to decrease.  </li>\n",
    "    <li> Repeat 2-5 until done. </li>\n",
    "</ol>\n",
    "\n",
    "Optionally, you can also decay the learning rate after each minibatch or each epoch.\n",
    "</div>\n",
    "\n",
    "<div class=\"alert alert-warning\">\n",
    "**Warning:** This assignment would take potentially hours to train a model to \"good performance\" on an average laptop.  In practice, it is very common for neural networks to take hours, days or even weeks to train, even if powered by GPUs which are good at matrix multiplication and elementwise computation.\n",
    "</div>"
   ]
  },
  {
   "cell_type": "markdown",
   "metadata": {},
   "source": [
    "<div class=\"alert alert-warning\">\n",
    "\n",
    "Answer: For same number of epochs, with larger batch size, the training time is reduced because computer has some linear algebra software that acclerates doing one big matrix multiplication instead of doing many small matrix multiplications. Also, from the learning curve, larger batch size fluctuate in a smaller degree and the loss decreases slower while with smaller batch size, the curve drops quickly at first, because with smaller batch size, it is not an exact approximation to the full batch size gradient descent, so it overshoots a lot and it will settle down when finding a smooth local minimum, that also explains why smaller batch size has a better accuracy trained with same amount of epochs. One discussion post I found really interesting is here: https://stats.stackexchange.com/questions/164876/tradeoff-batch-size-vs-number-of-iterations-to-train-a-neural-network\n",
    "<div>"
   ]
  },
  {
   "cell_type": "code",
   "execution_count": 48,
   "metadata": {
    "collapsed": true
   },
   "outputs": [],
   "source": [
    "#split the training set\n",
    "from sklearn.cross_validation import train_test_split\n",
    "x_train,x_val,y_train,y_val = train_test_split(train_data,train_labels,test_size=0.05)"
   ]
  },
  {
   "cell_type": "code",
   "execution_count": 68,
   "metadata": {},
   "outputs": [
    {
     "data": {
      "text/plain": [
       "3000"
      ]
     },
     "execution_count": 68,
     "metadata": {},
     "output_type": "execute_result"
    }
   ],
   "source": [
    "x_val.shape[0]"
   ]
  },
  {
   "cell_type": "code",
   "execution_count": 196,
   "metadata": {
    "collapsed": true
   },
   "outputs": [],
   "source": [
    "# YOUR CODE HERE\n",
    "def train_sgd(cost_and_grad, initial_params, \n",
    "              train_data, train_labels,\n",
    "              val_data,val_labels, learning_rate=1,\n",
    "              learning_rate_decay=0.9,batch_size=10,\n",
    "              max_iter=30000):\n",
    "    \n",
    "    param_buf, unpack = autograd.misc.flatten(initial_params)\n",
    "    num_train = train_data.shape[0]\n",
    "    iterations_per_epoch = max(num_train / batch_size, 1)\n",
    "    \n",
    "    loss_history = []\n",
    "    train_acc_history = []\n",
    "    val_acc_history = []\n",
    "    min_loss=1000\n",
    "    best_params=None\n",
    "    for i in range(max_iter):\n",
    "        \n",
    "        idx = np.random.choice(num_train, batch_size, replace=True)\n",
    "        X_batch=train_data[idx]\n",
    "        y_batch=train_labels[idx]\n",
    "        \n",
    "        loss, dparam_buf = cost_and_grad(param_buf, X_batch, y_batch, unpack)\n",
    "        loss_history.append(loss)\n",
    "        param_buf -= learning_rate * dparam_buf\n",
    "        \n",
    "        if i % 100 ==0:\n",
    "            new_params=unpack(param_buf)\n",
    "            y_hat_train = adaptive_rbfn_logits(X_batch, new_params).argmax(axis=1)\n",
    "            train_acc = (np.equal(y_hat_train, y_batch).sum()).astype(float)/y_batch.shape[0]\n",
    "\n",
    "        if i % iterations_per_epoch == 0:\n",
    "            num_epoch=i/iterations_per_epoch\n",
    "            new_params=unpack(param_buf)\n",
    "            y_hat_val= adaptive_rbfn_logits(val_data, new_params).argmax(axis=1)\n",
    "            val_acc = (np.equal(y_hat_val, val_labels).sum()).astype(float)/val_labels.shape[0]\n",
    "            print 'validation accuracy on epoch %d is: %f'%(num_epoch,val_acc)\n",
    "            #early stopping\n",
    "            if loss<min_loss:\n",
    "                best_params=new_params\n",
    "                min_loss=loss\n",
    "        \n",
    "            train_acc_history.append(train_acc)\n",
    "            val_acc_history.append(val_acc)\n",
    "            # Decay learning rate\n",
    "            learning_rate *= learning_rate_decay\n",
    "            print 'iteration %d / %d: loss %f' % (i, max_iter, loss)\n",
    "\n",
    "            \n",
    "    return {\n",
    "      'loss_history': loss_history,\n",
    "      'train_acc_history': train_acc_history,\n",
    "      'val_acc_history': val_acc_history,\n",
    "      'best_params':best_params,\n",
    "       'min_loss': min_loss\n",
    "    }"
   ]
  },
  {
   "cell_type": "code",
   "execution_count": 159,
   "metadata": {
    "collapsed": true
   },
   "outputs": [],
   "source": [
    "n_bases = 20\n",
    "\n",
    "params = {}\n",
    "params['bases'] = np.random.rand(n_bases, n_features)\n",
    "params['w'] = np.random.randn(n_bases, 10) * 0.1\n",
    "params['b'] = np.zeros(10)"
   ]
  },
  {
   "cell_type": "code",
   "execution_count": 162,
   "metadata": {},
   "outputs": [
    {
     "name": "stdout",
     "output_type": "stream",
     "text": [
      "validation accuracy on epoch 0 is: 0.094667\n",
      "iteration 0 / 96900: loss 4.630827\n",
      "validation accuracy on epoch 1 is: 0.335000\n",
      "iteration 5700 / 96900: loss 3.873917\n",
      "validation accuracy on epoch 2 is: 0.540667\n",
      "iteration 11400 / 96900: loss 3.158435\n",
      "validation accuracy on epoch 3 is: 0.819000\n",
      "iteration 17100 / 96900: loss 3.489127\n",
      "validation accuracy on epoch 4 is: 0.828333\n",
      "iteration 22800 / 96900: loss 3.833364\n",
      "validation accuracy on epoch 5 is: 0.844667\n",
      "iteration 28500 / 96900: loss 3.337850\n",
      "validation accuracy on epoch 6 is: 0.835667\n",
      "iteration 34200 / 96900: loss 2.879426\n",
      "validation accuracy on epoch 7 is: 0.836333\n",
      "iteration 39900 / 96900: loss 3.497349\n",
      "validation accuracy on epoch 8 is: 0.867000\n",
      "iteration 45600 / 96900: loss 3.192920\n",
      "validation accuracy on epoch 9 is: 0.862000\n",
      "iteration 51300 / 96900: loss 3.063912\n",
      "validation accuracy on epoch 10 is: 0.867667\n",
      "iteration 57000 / 96900: loss 2.852997\n",
      "validation accuracy on epoch 11 is: 0.874667\n",
      "iteration 62700 / 96900: loss 2.679164\n",
      "validation accuracy on epoch 12 is: 0.876333\n",
      "iteration 68400 / 96900: loss 3.228300\n",
      "validation accuracy on epoch 13 is: 0.881000\n",
      "iteration 74100 / 96900: loss 3.568840\n",
      "validation accuracy on epoch 14 is: 0.882333\n",
      "iteration 79800 / 96900: loss 2.780420\n",
      "validation accuracy on epoch 15 is: 0.881667\n",
      "iteration 85500 / 96900: loss 2.993339\n",
      "validation accuracy on epoch 16 is: 0.885667\n",
      "iteration 91200 / 96900: loss 2.928496\n",
      "Final training loss:  2.79680454743\n",
      "CPU times: user 21min 39s, sys: 11.8 s, total: 21min 51s\n",
      "Wall time: 22min 10s\n"
     ]
    }
   ],
   "source": [
    "%%time\n",
    "#training with 17 epochs and batch size 10\n",
    "history = train_sgd(adaptive_rbfn_cost_and_grad, params, x_train, y_train,x_val,y_val,max_iter=96900)\n",
    "print 'Final training loss: ', history['loss_history'][-1]"
   ]
  },
  {
   "cell_type": "code",
   "execution_count": 164,
   "metadata": {},
   "outputs": [
    {
     "name": "stdout",
     "output_type": "stream",
     "text": [
      "test accuracy is: 0.886000\n"
     ]
    }
   ],
   "source": [
    "y_hat_test = adaptive_rbfn_logits(test_data, history['best_params']).argmax(axis=1)\n",
    "test_acc1 = (np.equal(y_hat_test, test_labels).sum()).astype(float)/test_labels.shape[0]\n",
    "print 'test accuracy is: %f'%(test_acc1)"
   ]
  },
  {
   "cell_type": "markdown",
   "metadata": {},
   "source": [
    "This shows 88.6% accuracy on the test dataset. So batch size with 10 works great. And let's see the learning curve."
   ]
  },
  {
   "cell_type": "code",
   "execution_count": 165,
   "metadata": {},
   "outputs": [
    {
     "data": {
      "image/png": "[encoded data removed]",
      "text/plain": [
       "<matplotlib.figure.Figure at 0x1a12c3da50>"
      ]
     },
     "metadata": {},
     "output_type": "display_data"
    }
   ],
   "source": [
    "import matplotlib.pyplot as plt\n",
    "\n",
    "plt.subplot(2, 1, 1)\n",
    "plt.plot(history['loss_history'])\n",
    "plt.title('Loss history')\n",
    "plt.xlabel('Iteration')\n",
    "plt.ylabel('Loss')\n",
    "\n",
    "plt.subplot(2, 1, 2)\n",
    "plt.plot(history['train_acc_history'], label='train')\n",
    "plt.plot(history['val_acc_history'], label='val')\n",
    "plt.title('Classification accuracy history')\n",
    "plt.xlabel('Epoch')\n",
    "plt.ylabel('Clasification accuracy')\n",
    "plt.show()"
   ]
  },
  {
   "cell_type": "code",
   "execution_count": 197,
   "metadata": {},
   "outputs": [
    {
     "name": "stdout",
     "output_type": "stream",
     "text": [
      "validation accuracy on epoch 0 is: 0.099667\n",
      "iteration 0 / 9690: loss 6.923676\n",
      "validation accuracy on epoch 1 is: 0.101667\n",
      "iteration 570 / 9690: loss 6.907438\n",
      "validation accuracy on epoch 2 is: 0.106333\n",
      "iteration 1140 / 9690: loss 6.910915\n",
      "validation accuracy on epoch 3 is: 0.106667\n",
      "iteration 1710 / 9690: loss 6.885028\n",
      "validation accuracy on epoch 4 is: 0.093667\n",
      "iteration 2280 / 9690: loss 6.897973\n",
      "validation accuracy on epoch 5 is: 0.274667\n",
      "iteration 2850 / 9690: loss 6.888560\n",
      "validation accuracy on epoch 6 is: 0.178667\n",
      "iteration 3420 / 9690: loss 6.833045\n",
      "validation accuracy on epoch 7 is: 0.187000\n",
      "iteration 3990 / 9690: loss 6.806731\n",
      "validation accuracy on epoch 8 is: 0.315667\n",
      "iteration 4560 / 9690: loss 6.809144\n",
      "validation accuracy on epoch 9 is: 0.270000\n",
      "iteration 5130 / 9690: loss 6.703610\n",
      "validation accuracy on epoch 10 is: 0.389667\n",
      "iteration 5700 / 9690: loss 6.693536\n",
      "validation accuracy on epoch 11 is: 0.432667\n",
      "iteration 6270 / 9690: loss 6.660015\n",
      "validation accuracy on epoch 12 is: 0.402333\n",
      "iteration 6840 / 9690: loss 6.577732\n",
      "validation accuracy on epoch 13 is: 0.432000\n",
      "iteration 7410 / 9690: loss 6.532315\n",
      "validation accuracy on epoch 14 is: 0.481000\n",
      "iteration 7980 / 9690: loss 6.444688\n",
      "validation accuracy on epoch 15 is: 0.495333\n",
      "iteration 8550 / 9690: loss 6.501882\n",
      "validation accuracy on epoch 16 is: 0.492000\n",
      "iteration 9120 / 9690: loss 6.450569\n",
      "Final training loss:  6.34966629108\n",
      "CPU times: user 7min 26s, sys: 2min 13s, total: 9min 39s\n",
      "Wall time: 9min 50s\n"
     ]
    }
   ],
   "source": [
    "%%time\n",
    "#training with 17 epochs and batch size 100\n",
    "history = train_sgd(adaptive_rbfn_cost_and_grad, params, x_train, y_train,x_val,y_val,batch_size=100,max_iter=9690)\n",
    "print 'Final training loss: ', history['loss_history'][-1]"
   ]
  },
  {
   "cell_type": "code",
   "execution_count": 198,
   "metadata": {},
   "outputs": [
    {
     "name": "stdout",
     "output_type": "stream",
     "text": [
      "test accuracy is: 0.487700\n"
     ]
    }
   ],
   "source": [
    "y_hat_test = adaptive_rbfn_logits(test_data, history['best_params']).argmax(axis=1)\n",
    "test_acc1 = (np.equal(y_hat_test, test_labels).sum()).astype(float)/test_labels.shape[0]\n",
    "print 'test accuracy is: %f'%(test_acc1)"
   ]
  },
  {
   "cell_type": "code",
   "execution_count": 199,
   "metadata": {},
   "outputs": [
    {
     "data": {
      "image/png": "[encoded data removed]",
      "text/plain": [
       "<matplotlib.figure.Figure at 0x1a132457d0>"
      ]
     },
     "metadata": {},
     "output_type": "display_data"
    }
   ],
   "source": [
    "plt.subplot(2, 1, 1)\n",
    "plt.plot(history['loss_history'])\n",
    "plt.title('Loss history')\n",
    "plt.xlabel('Iteration')\n",
    "plt.ylabel('Loss')\n",
    "\n",
    "plt.subplot(2, 1, 2)\n",
    "plt.plot(history['train_acc_history'], label='train')\n",
    "plt.plot(history['val_acc_history'], label='val')\n",
    "#plt.title('Classification accuracy history')\n",
    "plt.xlabel('Epoch')\n",
    "plt.ylabel('Clasification accuracy')\n",
    "plt.show()"
   ]
  },
  {
   "cell_type": "markdown",
   "metadata": {},
   "source": [
    "we can see from the comparison between these two using the same epoch, large batch size has lower accuracy but is much quicker, let's train the larger batch size with more iterations"
   ]
  },
  {
   "cell_type": "code",
   "execution_count": 174,
   "metadata": {},
   "outputs": [
    {
     "name": "stdout",
     "output_type": "stream",
     "text": [
      "validation accuracy on epoch 0 is: 0.518000\n",
      "iteration 0 / 9690: loss 6.309797\n",
      "validation accuracy on epoch 1 is: 0.517667\n",
      "iteration 570 / 9690: loss 6.255648\n",
      "validation accuracy on epoch 2 is: 0.569667\n",
      "iteration 1140 / 9690: loss 6.311605\n",
      "validation accuracy on epoch 3 is: 0.564333\n",
      "iteration 1710 / 9690: loss 6.273000\n",
      "validation accuracy on epoch 4 is: 0.557333\n",
      "iteration 2280 / 9690: loss 6.274345\n",
      "validation accuracy on epoch 5 is: 0.564667\n",
      "iteration 2850 / 9690: loss 6.276083\n",
      "validation accuracy on epoch 6 is: 0.598000\n",
      "iteration 3420 / 9690: loss 6.206235\n",
      "validation accuracy on epoch 7 is: 0.581000\n",
      "iteration 3990 / 9690: loss 6.137539\n",
      "validation accuracy on epoch 8 is: 0.593000\n",
      "iteration 4560 / 9690: loss 6.151904\n",
      "validation accuracy on epoch 9 is: 0.590333\n",
      "iteration 5130 / 9690: loss 6.232030\n",
      "validation accuracy on epoch 10 is: 0.603333\n",
      "iteration 5700 / 9690: loss 6.112945\n",
      "validation accuracy on epoch 11 is: 0.609000\n",
      "iteration 6270 / 9690: loss 6.026343\n",
      "validation accuracy on epoch 12 is: 0.591000\n",
      "iteration 6840 / 9690: loss 6.158393\n",
      "validation accuracy on epoch 13 is: 0.632667\n",
      "iteration 7410 / 9690: loss 6.083650\n",
      "validation accuracy on epoch 14 is: 0.589000\n",
      "iteration 7980 / 9690: loss 6.142400\n",
      "validation accuracy on epoch 15 is: 0.594333\n",
      "iteration 8550 / 9690: loss 6.078875\n",
      "validation accuracy on epoch 16 is: 0.615000\n",
      "iteration 9120 / 9690: loss 6.068093\n",
      "Final training loss:  6.09144865228\n",
      "CPU times: user 14min 5s, sys: 3min 17s, total: 17min 22s\n",
      "Wall time: 17min 40s\n"
     ]
    }
   ],
   "source": [
    "%%time\n",
    "#training with 17 more epochs and batch size 100\n",
    "history = train_sgd(adaptive_rbfn_cost_and_grad, history['best_params'], x_train, y_train,x_val,y_val,learning_rate=1,batch_size=100,max_iter=9690)\n",
    "print 'Final training loss: ', history['loss_history'][-1]"
   ]
  },
  {
   "cell_type": "code",
   "execution_count": 176,
   "metadata": {},
   "outputs": [
    {
     "data": {
      "image/png": "[encoded data removed]",
      "text/plain": [
       "<matplotlib.figure.Figure at 0x1a16af3390>"
      ]
     },
     "metadata": {},
     "output_type": "display_data"
    }
   ],
   "source": [
    "plt.subplot(2, 1, 1)\n",
    "plt.plot(history['loss_history'])\n",
    "plt.title('Loss history')\n",
    "plt.xlabel('Iteration')\n",
    "plt.ylabel('Loss')\n",
    "\n",
    "plt.subplot(2, 1, 2)\n",
    "plt.plot(history['train_acc_history'], label='train')\n",
    "plt.plot(history['val_acc_history'], label='val')\n",
    "#plt.title('Classification accuracy history')\n",
    "plt.xlabel('Epoch')\n",
    "plt.ylabel('Clasification accuracy')\n",
    "plt.show()"
   ]
  },
  {
   "cell_type": "code",
   "execution_count": 178,
   "metadata": {},
   "outputs": [
    {
     "name": "stdout",
     "output_type": "stream",
     "text": [
      "validation accuracy on epoch 0 is: 0.106333\n",
      "iteration 0 / 96900: loss 6.920362\n",
      "validation accuracy on epoch 1 is: 0.099667\n",
      "iteration 570 / 96900: loss 6.959407\n",
      "validation accuracy on epoch 2 is: 0.104333\n",
      "iteration 1140 / 96900: loss 6.994745\n",
      "validation accuracy on epoch 3 is: 0.180000\n",
      "iteration 1710 / 96900: loss 6.878319\n",
      "validation accuracy on epoch 4 is: 0.099667\n",
      "iteration 2280 / 96900: loss 6.882382\n",
      "validation accuracy on epoch 5 is: 0.102333\n",
      "iteration 2850 / 96900: loss 6.855721\n",
      "validation accuracy on epoch 6 is: 0.347000\n",
      "iteration 3420 / 96900: loss 6.798233\n",
      "validation accuracy on epoch 7 is: 0.219000\n",
      "iteration 3990 / 96900: loss 6.713079\n",
      "validation accuracy on epoch 8 is: 0.327000\n",
      "iteration 4560 / 96900: loss 6.681302\n",
      "validation accuracy on epoch 9 is: 0.381333\n",
      "iteration 5130 / 96900: loss 6.581108\n",
      "validation accuracy on epoch 10 is: 0.407667\n",
      "iteration 5700 / 96900: loss 6.515541\n",
      "validation accuracy on epoch 11 is: 0.441667\n",
      "iteration 6270 / 96900: loss 6.431894\n",
      "validation accuracy on epoch 12 is: 0.527000\n",
      "iteration 6840 / 96900: loss 6.368661\n",
      "validation accuracy on epoch 13 is: 0.513667\n",
      "iteration 7410 / 96900: loss 6.329934\n",
      "validation accuracy on epoch 14 is: 0.561333\n",
      "iteration 7980 / 96900: loss 6.298806\n",
      "validation accuracy on epoch 15 is: 0.564000\n",
      "iteration 8550 / 96900: loss 6.253368\n",
      "validation accuracy on epoch 16 is: 0.547667\n",
      "iteration 9120 / 96900: loss 6.283208\n",
      "validation accuracy on epoch 17 is: 0.548333\n",
      "iteration 9690 / 96900: loss 6.158334\n",
      "validation accuracy on epoch 18 is: 0.612000\n",
      "iteration 10260 / 96900: loss 6.202410\n",
      "validation accuracy on epoch 19 is: 0.599333\n",
      "iteration 10830 / 96900: loss 6.087810\n",
      "validation accuracy on epoch 20 is: 0.611333\n",
      "iteration 11400 / 96900: loss 6.100372\n",
      "validation accuracy on epoch 21 is: 0.625333\n",
      "iteration 11970 / 96900: loss 6.128841\n",
      "validation accuracy on epoch 22 is: 0.595333\n",
      "iteration 12540 / 96900: loss 6.140577\n",
      "validation accuracy on epoch 23 is: 0.603667\n",
      "iteration 13110 / 96900: loss 6.042599\n",
      "validation accuracy on epoch 24 is: 0.635000\n",
      "iteration 13680 / 96900: loss 6.038388\n",
      "validation accuracy on epoch 25 is: 0.616000\n",
      "iteration 14250 / 96900: loss 6.043281\n",
      "validation accuracy on epoch 26 is: 0.621667\n",
      "iteration 14820 / 96900: loss 6.062157\n",
      "validation accuracy on epoch 27 is: 0.625667\n",
      "iteration 15390 / 96900: loss 6.051704\n",
      "validation accuracy on epoch 28 is: 0.614667\n",
      "iteration 15960 / 96900: loss 6.046141\n",
      "validation accuracy on epoch 29 is: 0.614000\n",
      "iteration 16530 / 96900: loss 6.012638\n",
      "validation accuracy on epoch 30 is: 0.635000\n",
      "iteration 17100 / 96900: loss 5.990389\n",
      "validation accuracy on epoch 31 is: 0.624333\n",
      "iteration 17670 / 96900: loss 6.027479\n",
      "validation accuracy on epoch 32 is: 0.640667\n",
      "iteration 18240 / 96900: loss 6.041815\n",
      "validation accuracy on epoch 33 is: 0.657000\n",
      "iteration 18810 / 96900: loss 6.002555\n",
      "validation accuracy on epoch 34 is: 0.643333\n",
      "iteration 19380 / 96900: loss 6.033150\n",
      "validation accuracy on epoch 35 is: 0.641333\n",
      "iteration 19950 / 96900: loss 6.045663\n",
      "validation accuracy on epoch 36 is: 0.644000\n",
      "iteration 20520 / 96900: loss 5.964450\n",
      "validation accuracy on epoch 37 is: 0.649000\n",
      "iteration 21090 / 96900: loss 6.046516\n",
      "validation accuracy on epoch 38 is: 0.641000\n",
      "iteration 21660 / 96900: loss 5.904803\n",
      "validation accuracy on epoch 39 is: 0.643667\n",
      "iteration 22230 / 96900: loss 5.976446\n",
      "validation accuracy on epoch 40 is: 0.650667\n",
      "iteration 22800 / 96900: loss 5.955108\n",
      "validation accuracy on epoch 41 is: 0.646333\n",
      "iteration 23370 / 96900: loss 6.003967\n",
      "validation accuracy on epoch 42 is: 0.651333\n",
      "iteration 23940 / 96900: loss 6.051666\n",
      "validation accuracy on epoch 43 is: 0.653000\n",
      "iteration 24510 / 96900: loss 6.031241\n",
      "validation accuracy on epoch 44 is: 0.668000\n",
      "iteration 25080 / 96900: loss 5.964902\n",
      "validation accuracy on epoch 45 is: 0.648000\n",
      "iteration 25650 / 96900: loss 6.071395\n",
      "validation accuracy on epoch 46 is: 0.659333\n",
      "iteration 26220 / 96900: loss 5.989446\n",
      "validation accuracy on epoch 47 is: 0.655333\n",
      "iteration 26790 / 96900: loss 6.025632\n",
      "validation accuracy on epoch 48 is: 0.654000\n",
      "iteration 27360 / 96900: loss 6.036901\n",
      "validation accuracy on epoch 49 is: 0.660667\n",
      "iteration 27930 / 96900: loss 5.923923\n",
      "validation accuracy on epoch 50 is: 0.663000\n",
      "iteration 28500 / 96900: loss 6.026431\n",
      "validation accuracy on epoch 51 is: 0.662667\n",
      "iteration 29070 / 96900: loss 5.960901\n",
      "validation accuracy on epoch 52 is: 0.656000\n",
      "iteration 29640 / 96900: loss 5.942130\n",
      "validation accuracy on epoch 53 is: 0.653667\n",
      "iteration 30210 / 96900: loss 5.989018\n",
      "validation accuracy on epoch 54 is: 0.650667\n",
      "iteration 30780 / 96900: loss 5.946086\n",
      "validation accuracy on epoch 55 is: 0.650333\n",
      "iteration 31350 / 96900: loss 6.032416\n",
      "validation accuracy on epoch 56 is: 0.654667\n",
      "iteration 31920 / 96900: loss 5.997190\n",
      "validation accuracy on epoch 57 is: 0.656000\n",
      "iteration 32490 / 96900: loss 5.955225\n",
      "validation accuracy on epoch 58 is: 0.665333\n",
      "iteration 33060 / 96900: loss 5.919704\n",
      "validation accuracy on epoch 59 is: 0.658667\n",
      "iteration 33630 / 96900: loss 6.065464\n",
      "validation accuracy on epoch 60 is: 0.661000\n",
      "iteration 34200 / 96900: loss 6.030294\n",
      "validation accuracy on epoch 61 is: 0.660667\n",
      "iteration 34770 / 96900: loss 6.042651\n",
      "validation accuracy on epoch 62 is: 0.663333\n",
      "iteration 35340 / 96900: loss 5.999185\n",
      "validation accuracy on epoch 63 is: 0.660000\n",
      "iteration 35910 / 96900: loss 6.003834\n",
      "validation accuracy on epoch 64 is: 0.657667\n",
      "iteration 36480 / 96900: loss 6.003451\n",
      "validation accuracy on epoch 65 is: 0.658000\n",
      "iteration 37050 / 96900: loss 6.025587\n",
      "validation accuracy on epoch 66 is: 0.662000\n",
      "iteration 37620 / 96900: loss 6.042984\n",
      "validation accuracy on epoch 67 is: 0.655667\n",
      "iteration 38190 / 96900: loss 5.928660\n",
      "validation accuracy on epoch 68 is: 0.656333\n",
      "iteration 38760 / 96900: loss 6.051343\n",
      "validation accuracy on epoch 69 is: 0.655667\n",
      "iteration 39330 / 96900: loss 5.940012\n",
      "validation accuracy on epoch 70 is: 0.655667\n",
      "iteration 39900 / 96900: loss 6.045693\n",
      "validation accuracy on epoch 71 is: 0.657333\n",
      "iteration 40470 / 96900: loss 6.002356\n",
      "validation accuracy on epoch 72 is: 0.656000\n",
      "iteration 41040 / 96900: loss 6.132550\n",
      "validation accuracy on epoch 73 is: 0.656333\n",
      "iteration 41610 / 96900: loss 5.996692\n",
      "validation accuracy on epoch 74 is: 0.657333\n",
      "iteration 42180 / 96900: loss 6.016123\n",
      "validation accuracy on epoch 75 is: 0.656667\n",
      "iteration 42750 / 96900: loss 6.027577\n",
      "validation accuracy on epoch 76 is: 0.656667\n",
      "iteration 43320 / 96900: loss 6.043142\n",
      "validation accuracy on epoch 77 is: 0.656333\n",
      "iteration 43890 / 96900: loss 6.007924\n",
      "validation accuracy on epoch 78 is: 0.656667\n",
      "iteration 44460 / 96900: loss 5.963472\n",
      "validation accuracy on epoch 79 is: 0.657000\n",
      "iteration 45030 / 96900: loss 6.052594\n",
      "validation accuracy on epoch 80 is: 0.656667\n",
      "iteration 45600 / 96900: loss 6.021058\n",
      "validation accuracy on epoch 81 is: 0.656667\n",
      "iteration 46170 / 96900: loss 6.013481\n",
      "validation accuracy on epoch 82 is: 0.657667\n",
      "iteration 46740 / 96900: loss 6.011133\n",
      "validation accuracy on epoch 83 is: 0.658000\n",
      "iteration 47310 / 96900: loss 6.083405\n",
      "validation accuracy on epoch 84 is: 0.657333\n",
      "iteration 47880 / 96900: loss 6.077713\n",
      "validation accuracy on epoch 85 is: 0.657333\n",
      "iteration 48450 / 96900: loss 5.914598\n",
      "validation accuracy on epoch 86 is: 0.657667\n",
      "iteration 49020 / 96900: loss 5.963818\n",
      "validation accuracy on epoch 87 is: 0.658000\n",
      "iteration 49590 / 96900: loss 5.999131\n",
      "validation accuracy on epoch 88 is: 0.658000\n",
      "iteration 50160 / 96900: loss 5.950608\n",
      "validation accuracy on epoch 89 is: 0.658333\n",
      "iteration 50730 / 96900: loss 6.074521\n",
      "validation accuracy on epoch 90 is: 0.658333\n",
      "iteration 51300 / 96900: loss 6.020599\n",
      "validation accuracy on epoch 91 is: 0.658333\n",
      "iteration 51870 / 96900: loss 6.032950\n",
      "validation accuracy on epoch 92 is: 0.658333\n",
      "iteration 52440 / 96900: loss 6.047272\n",
      "validation accuracy on epoch 93 is: 0.658333\n",
      "iteration 53010 / 96900: loss 5.974760\n",
      "validation accuracy on epoch 94 is: 0.658000\n",
      "iteration 53580 / 96900: loss 5.996895\n",
      "validation accuracy on epoch 95 is: 0.658000\n",
      "iteration 54150 / 96900: loss 6.020597\n",
      "validation accuracy on epoch 96 is: 0.658000\n",
      "iteration 54720 / 96900: loss 5.994752\n",
      "validation accuracy on epoch 97 is: 0.657667\n",
      "iteration 55290 / 96900: loss 6.048100\n"
     ]
    },
    {
     "name": "stdout",
     "output_type": "stream",
     "text": [
      "validation accuracy on epoch 98 is: 0.657667\n",
      "iteration 55860 / 96900: loss 6.053491\n",
      "validation accuracy on epoch 99 is: 0.657333\n",
      "iteration 56430 / 96900: loss 5.967800\n",
      "validation accuracy on epoch 100 is: 0.657333\n",
      "iteration 57000 / 96900: loss 5.864633\n",
      "validation accuracy on epoch 101 is: 0.657667\n",
      "iteration 57570 / 96900: loss 5.992410\n",
      "validation accuracy on epoch 102 is: 0.657667\n",
      "iteration 58140 / 96900: loss 5.958960\n",
      "validation accuracy on epoch 103 is: 0.658000\n",
      "iteration 58710 / 96900: loss 5.844170\n",
      "validation accuracy on epoch 104 is: 0.658000\n",
      "iteration 59280 / 96900: loss 6.030102\n",
      "validation accuracy on epoch 105 is: 0.658000\n",
      "iteration 59850 / 96900: loss 6.006481\n",
      "validation accuracy on epoch 106 is: 0.658000\n",
      "iteration 60420 / 96900: loss 5.964655\n",
      "validation accuracy on epoch 107 is: 0.657667\n",
      "iteration 60990 / 96900: loss 6.005410\n",
      "validation accuracy on epoch 108 is: 0.657667\n",
      "iteration 61560 / 96900: loss 6.037092\n",
      "validation accuracy on epoch 109 is: 0.657667\n",
      "iteration 62130 / 96900: loss 6.012940\n",
      "validation accuracy on epoch 110 is: 0.657667\n",
      "iteration 62700 / 96900: loss 5.969253\n",
      "validation accuracy on epoch 111 is: 0.657667\n",
      "iteration 63270 / 96900: loss 6.016327\n",
      "validation accuracy on epoch 112 is: 0.657667\n",
      "iteration 63840 / 96900: loss 6.008386\n",
      "validation accuracy on epoch 113 is: 0.657667\n",
      "iteration 64410 / 96900: loss 5.999966\n",
      "validation accuracy on epoch 114 is: 0.657667\n",
      "iteration 64980 / 96900: loss 5.963170\n",
      "validation accuracy on epoch 115 is: 0.657667\n",
      "iteration 65550 / 96900: loss 5.976493\n",
      "validation accuracy on epoch 116 is: 0.657667\n",
      "iteration 66120 / 96900: loss 5.940433\n",
      "validation accuracy on epoch 117 is: 0.657667\n",
      "iteration 66690 / 96900: loss 5.995171\n",
      "validation accuracy on epoch 118 is: 0.657667\n",
      "iteration 67260 / 96900: loss 6.009494\n",
      "validation accuracy on epoch 119 is: 0.657667\n",
      "iteration 67830 / 96900: loss 5.997589\n",
      "validation accuracy on epoch 120 is: 0.657667\n",
      "iteration 68400 / 96900: loss 5.953615\n",
      "validation accuracy on epoch 121 is: 0.657667\n",
      "iteration 68970 / 96900: loss 5.978706\n",
      "validation accuracy on epoch 122 is: 0.657667\n",
      "iteration 69540 / 96900: loss 5.990674\n",
      "validation accuracy on epoch 123 is: 0.657667\n",
      "iteration 70110 / 96900: loss 5.953860\n",
      "validation accuracy on epoch 124 is: 0.657667\n",
      "iteration 70680 / 96900: loss 5.933223\n",
      "validation accuracy on epoch 125 is: 0.657667\n",
      "iteration 71250 / 96900: loss 5.963258\n",
      "validation accuracy on epoch 126 is: 0.657667\n",
      "iteration 71820 / 96900: loss 5.924067\n",
      "validation accuracy on epoch 127 is: 0.657667\n",
      "iteration 72390 / 96900: loss 6.017707\n",
      "validation accuracy on epoch 128 is: 0.657667\n",
      "iteration 72960 / 96900: loss 5.964578\n",
      "validation accuracy on epoch 129 is: 0.657667\n",
      "iteration 73530 / 96900: loss 5.969012\n",
      "validation accuracy on epoch 130 is: 0.657667\n",
      "iteration 74100 / 96900: loss 6.114957\n",
      "validation accuracy on epoch 131 is: 0.657667\n",
      "iteration 74670 / 96900: loss 5.951155\n",
      "validation accuracy on epoch 132 is: 0.657667\n",
      "iteration 75240 / 96900: loss 5.980467\n",
      "validation accuracy on epoch 133 is: 0.657667\n",
      "iteration 75810 / 96900: loss 6.005654\n",
      "validation accuracy on epoch 134 is: 0.657667\n",
      "iteration 76380 / 96900: loss 5.954484\n",
      "validation accuracy on epoch 135 is: 0.657667\n",
      "iteration 76950 / 96900: loss 5.980856\n",
      "validation accuracy on epoch 136 is: 0.657667\n",
      "iteration 77520 / 96900: loss 6.019075\n",
      "validation accuracy on epoch 137 is: 0.657667\n",
      "iteration 78090 / 96900: loss 5.958252\n",
      "validation accuracy on epoch 138 is: 0.657667\n",
      "iteration 78660 / 96900: loss 5.975446\n",
      "validation accuracy on epoch 139 is: 0.657667\n",
      "iteration 79230 / 96900: loss 5.960490\n",
      "validation accuracy on epoch 140 is: 0.657667\n",
      "iteration 79800 / 96900: loss 6.016793\n",
      "validation accuracy on epoch 141 is: 0.657667\n",
      "iteration 80370 / 96900: loss 5.951874\n",
      "validation accuracy on epoch 142 is: 0.657667\n",
      "iteration 80940 / 96900: loss 5.999820\n",
      "validation accuracy on epoch 143 is: 0.657667\n",
      "iteration 81510 / 96900: loss 5.980410\n",
      "validation accuracy on epoch 144 is: 0.657667\n",
      "iteration 82080 / 96900: loss 6.014310\n",
      "validation accuracy on epoch 145 is: 0.657667\n",
      "iteration 82650 / 96900: loss 6.012755\n",
      "validation accuracy on epoch 146 is: 0.657667\n",
      "iteration 83220 / 96900: loss 6.051316\n",
      "validation accuracy on epoch 147 is: 0.657667\n",
      "iteration 83790 / 96900: loss 5.899526\n",
      "validation accuracy on epoch 148 is: 0.657667\n",
      "iteration 84360 / 96900: loss 5.962236\n",
      "validation accuracy on epoch 149 is: 0.657667\n",
      "iteration 84930 / 96900: loss 5.957194\n",
      "validation accuracy on epoch 150 is: 0.657667\n",
      "iteration 85500 / 96900: loss 6.025143\n",
      "validation accuracy on epoch 151 is: 0.657667\n",
      "iteration 86070 / 96900: loss 5.981712\n",
      "validation accuracy on epoch 152 is: 0.657667\n",
      "iteration 86640 / 96900: loss 6.040356\n",
      "validation accuracy on epoch 153 is: 0.657667\n",
      "iteration 87210 / 96900: loss 5.978625\n",
      "validation accuracy on epoch 154 is: 0.657667\n",
      "iteration 87780 / 96900: loss 6.030081\n",
      "validation accuracy on epoch 155 is: 0.657667\n",
      "iteration 88350 / 96900: loss 5.982488\n",
      "validation accuracy on epoch 156 is: 0.657667\n",
      "iteration 88920 / 96900: loss 5.964048\n",
      "validation accuracy on epoch 157 is: 0.657667\n",
      "iteration 89490 / 96900: loss 5.943682\n",
      "validation accuracy on epoch 158 is: 0.657667\n",
      "iteration 90060 / 96900: loss 5.971335\n",
      "validation accuracy on epoch 159 is: 0.657667\n",
      "iteration 90630 / 96900: loss 5.941012\n",
      "validation accuracy on epoch 160 is: 0.657667\n",
      "iteration 91200 / 96900: loss 5.985660\n",
      "validation accuracy on epoch 161 is: 0.657667\n",
      "iteration 91770 / 96900: loss 6.005927\n",
      "validation accuracy on epoch 162 is: 0.657667\n",
      "iteration 92340 / 96900: loss 6.034178\n",
      "validation accuracy on epoch 163 is: 0.657667\n",
      "iteration 92910 / 96900: loss 6.027188\n",
      "validation accuracy on epoch 164 is: 0.657667\n",
      "iteration 93480 / 96900: loss 5.943488\n",
      "validation accuracy on epoch 165 is: 0.657667\n",
      "iteration 94050 / 96900: loss 5.976506\n",
      "validation accuracy on epoch 166 is: 0.657667\n",
      "iteration 94620 / 96900: loss 5.982297\n",
      "validation accuracy on epoch 167 is: 0.657667\n",
      "iteration 95190 / 96900: loss 5.928682\n",
      "validation accuracy on epoch 168 is: 0.657667\n",
      "iteration 95760 / 96900: loss 6.044141\n",
      "validation accuracy on epoch 169 is: 0.657667\n",
      "iteration 96330 / 96900: loss 6.094330\n",
      "Final training loss:  6.09144865228\n",
      "CPU times: user 2h 19min 57s, sys: 22min 50s, total: 2h 42min 47s\n",
      "Wall time: 9h 24min 37s\n"
     ]
    }
   ],
   "source": [
    "%%time\n",
    "#training with 17 more epochs and batch size 100\n",
    "history_x = train_sgd(adaptive_rbfn_cost_and_grad, params, x_train, y_train,x_val,y_val,batch_size=100,max_iter=96900)\n",
    "print 'Final training loss: ', history['loss_history'][-1]"
   ]
  },
  {
   "cell_type": "markdown",
   "metadata": {},
   "source": [
    "<div class=\"alert alert-warning\">\n",
    "\n",
    "It seems like with larger batch size, the algorithm is easily stuck in a local minimum where the loss is not decreasing quickly as when we use smaller batch size. I think one of the reason is with large batch size, one gradient descent is more approximate to the true full batch gradient descent so it shoots to a minimum without fluctuating to get out of the minimum. That is with smaller batch size, although it is more fluctuating, it helps to find a more smooth local minimum which means a minimum with larger generalizing ability.\n",
    "\n",
    "<div>"
   ]
  },
  {
   "cell_type": "markdown",
   "metadata": {},
   "source": [
    "For reference, here is our training loss and validation accuracy curve running for 2000 epochs.  Your training and validation curve does *not* need to look like ours; this is only supposed to give you a rough idea of how the curves would look like.\n",
    "\n",
    "![](curve.png)"
   ]
  },
  {
   "cell_type": "markdown",
   "metadata": {},
   "source": [
    "### Assignment 5: k-NN Classifier (15 points)\n",
    "\n",
    "The second goal is to compare you ARBFN against a k-NN classifier.  For the k-NN classifier, you need to try a couple $k$'s and pick the best one in a programmatic way."
   ]
  },
  {
   "cell_type": "markdown",
   "metadata": {
    "collapsed": true
   },
   "source": [
    "<div class=\"alert alert-danger\">\n",
    "(15 points) Build a k-NN classifier using `scikit-learn` with $k$'s from 1 to 3, train it on the first 1000 examples of MNIST dataset, and report the accuracy on the full test set. <br/>\n",
    "\n",
    "Would you use the (exact) k-NN classifier you have built for very large dataset (with maybe millions of examples)?  Explain your answer.\n",
    "</div>"
   ]
  },
  {
   "cell_type": "code",
   "execution_count": 101,
   "metadata": {},
   "outputs": [
    {
     "data": {
      "text/plain": [
       "KNeighborsClassifier(algorithm='auto', leaf_size=30, metric='minkowski',\n",
       "           metric_params=None, n_jobs=1, n_neighbors=3, p=2,\n",
       "           weights='uniform')"
      ]
     },
     "execution_count": 101,
     "metadata": {},
     "output_type": "execute_result"
    }
   ],
   "source": [
    "from sklearn import neighbors\n",
    "\n",
    "train_size = 1000\n",
    "X=train_data[:train_size]\n",
    "num_samples,num_row,num_column=X.shape\n",
    "X=X.reshape(num_samples,num_row*num_column)\n",
    "y=train_labels[:train_size]\n",
    "\n",
    "knn1=neighbors.KNeighborsClassifier(n_neighbors=1)\n",
    "knn1.fit(X,y)\n",
    "\n",
    "knn2=neighbors.KNeighborsClassifier(n_neighbors=2)\n",
    "knn2.fit(X,y)\n",
    "\n",
    "knn3=neighbors.KNeighborsClassifier(n_neighbors=3)\n",
    "knn3.fit(X,y)"
   ]
  },
  {
   "cell_type": "code",
   "execution_count": 111,
   "metadata": {
    "collapsed": true
   },
   "outputs": [],
   "source": [
    "num_samples_y,n,m=test_data.shape\n",
    "y=test_data.reshape(num_samples_y,num_row*num_column)\n",
    "\n",
    "res1=knn1.predict(y)\n",
    "res2=knn2.predict(y)\n",
    "res3=knn3.predict(y)"
   ]
  },
  {
   "cell_type": "code",
   "execution_count": 117,
   "metadata": {
    "collapsed": true
   },
   "outputs": [],
   "source": [
    "acc1=(np.equal(res1,test_labels).sum()).astype(float)/num_samples_y\n",
    "acc2=(np.equal(res2,test_labels).sum()).astype(float)/num_samples_y\n",
    "acc3=(np.equal(res3,test_labels).sum()).astype(float)/num_samples_y"
   ]
  },
  {
   "cell_type": "code",
   "execution_count": 125,
   "metadata": {},
   "outputs": [
    {
     "name": "stdout",
     "output_type": "stream",
     "text": [
      "knn with k=1 has accuracy: 0.869000\n",
      "knn with k=2 has accuracy: 0.849600\n",
      "knn with k=3 has accuracy: 0.862200\n"
     ]
    }
   ],
   "source": [
    "print 'knn with k=1 has accuracy: %f' %acc1\n",
    "print 'knn with k=2 has accuracy: %f' %acc2\n",
    "print 'knn with k=3 has accuracy: %f' %acc3"
   ]
  },
  {
   "cell_type": "markdown",
   "metadata": {},
   "source": [
    "<div class=\"alert alert-warning\">\n",
    "Ans:No I won't, because it is rather slow. With millions of data, we need to run each datapoint with every possible basis point. And a large dataset also requires more basis vector(training examples) in order to perform well. Therefore, Computational-wise, it is expensive. Also, it requires large storage space.\n",
    "<div>"
   ]
  },
  {
   "cell_type": "code",
   "execution_count": null,
   "metadata": {
    "collapsed": true
   },
   "outputs": [],
   "source": []
  }
 ],
 "metadata": {
  "kernelspec": {
   "display_name": "Python 2",
   "language": "python",
   "name": "python2"
  },
  "language_info": {
   "codemirror_mode": {
    "name": "ipython",
    "version": 2
   },
   "file_extension": ".py",
   "mimetype": "text/x-python",
   "name": "python",
   "nbconvert_exporter": "python",
   "pygments_lexer": "ipython2",
   "version": "2.7.14"
  }
 },
 "nbformat": 4,
 "nbformat_minor": 1
}
